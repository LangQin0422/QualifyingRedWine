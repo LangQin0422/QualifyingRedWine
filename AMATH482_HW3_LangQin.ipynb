{
  "nbformat": 4,
  "nbformat_minor": 0,
  "metadata": {
    "colab": {
      "name": "AMATH482_HW3_LangQin.ipynb",
      "provenance": [],
      "collapsed_sections": []
    },
    "kernelspec": {
      "name": "python3",
      "display_name": "Python 3"
    },
    "language_info": {
      "name": "python"
    }
  },
  "cells": [
    {
      "cell_type": "markdown",
      "source": [
        "# AMATH 482 Homework 3 - *Qualifying Red Wine*\n",
        "## Lang Qin"
      ],
      "metadata": {
        "id": "acCAzGDAg2AY"
      }
    },
    {
      "cell_type": "markdown",
      "source": [
        "# Environment Setup\n",
        "\n",
        "We first connect our notebook to personal google drive."
      ],
      "metadata": {
        "id": "-NaYbJNchIuR"
      }
    },
    {
      "cell_type": "code",
      "execution_count": null,
      "metadata": {
        "colab": {
          "base_uri": "https://localhost:8080/"
        },
        "id": "_Z79Lw5Kg0I1",
        "outputId": "2dbc8fdc-e020-4786-8b0b-c956bd39b42d"
      },
      "outputs": [
        {
          "output_type": "stream",
          "name": "stdout",
          "text": [
            "Mounted at /content/drive\n"
          ]
        }
      ],
      "source": [
        "from google.colab import drive\n",
        "\n",
        "# the following command loads up your google drive. It will promp you to give Colab access to your Gdrive\n",
        "drive.mount('/content/drive')"
      ]
    },
    {
      "cell_type": "markdown",
      "source": [
        "Then, we read in the given the dataset. "
      ],
      "metadata": {
        "id": "T7MC9YIVhQJ-"
      }
    },
    {
      "cell_type": "code",
      "source": [
        "import numpy as np\n",
        "import matplotlib.pyplot as plt\n",
        "\n",
        "# load training and test sets \n",
        "\n",
        "path_to_train = '/content/drive/My Drive/AMATH 482/HW3/wine_training.csv'\n",
        "path_to_test = '/content/drive/My Drive/AMATH 482/HW3/wine_test.csv'\n",
        "path_to_batch = '/content/drive/My Drive/AMATH 482/HW3/wine_new_batch.csv'\n",
        "\n",
        "df_training = np.loadtxt(path_to_train, delimiter=',')\n",
        "df_test = np.loadtxt(path_to_test, delimiter=',')\n",
        "df_batch = np.loadtxt(path_to_batch, delimiter=',')"
      ],
      "metadata": {
        "id": "o8DfaYTOhWuT"
      },
      "execution_count": null,
      "outputs": []
    },
    {
      "cell_type": "markdown",
      "source": [
        "Feature-label split."
      ],
      "metadata": {
        "id": "wXt4fPaTSgm4"
      }
    },
    {
      "cell_type": "code",
      "source": [
        "# training set\n",
        "feature_train = df_training[:, 0:11]\n",
        "label_train = df_training[:, 11]\n",
        "\n",
        "# test set\n",
        "feature_test = df_test[:, 0:11]\n",
        "label_test = df_test[:, 11]"
      ],
      "metadata": {
        "id": "7AwS1WutR_az"
      },
      "execution_count": null,
      "outputs": []
    },
    {
      "cell_type": "markdown",
      "source": [
        "# Data Normalization\n",
        "\n",
        "This step is to preprocess the data so that the input data are normalized\n",
        "for future traning and testing."
      ],
      "metadata": {
        "id": "QeR4oxT5T0va"
      }
    },
    {
      "cell_type": "code",
      "source": [
        "import numpy.matlib\n",
        "\n",
        "# normalize features\n",
        "feature_train_N = feature_train.shape[0]\n",
        "\n",
        "feature_train_mean = np.mean(feature_train, axis=0)\n",
        "feature_train_std = np.std(feature_train, axis=0)\n",
        "\n",
        "feature_train_normal = (feature_train - np.matlib.repmat(feature_train_mean, feature_train_N, 1))\\\n",
        "    / np.matlib.repmat(feature_train_std, feature_train_N, 1)\n",
        "\n",
        "# normalize labels\n",
        "label_train_N = label_train.shape[0]\n",
        "\n",
        "label_train_mean = np.mean(label_train, axis=0)\n",
        "label_train_std = np.std(label_train, axis=0)\n",
        "\n",
        "label_train_normal = (label_train - label_train_mean) / label_train_std"
      ],
      "metadata": {
        "id": "D-c5z4bKUCfA"
      },
      "execution_count": null,
      "outputs": []
    },
    {
      "cell_type": "markdown",
      "source": [
        "Be careful, the test set is normalized where the shift and scaling are computed\n",
        "from the training set."
      ],
      "metadata": {
        "id": "crwh_z4hVJTd"
      }
    },
    {
      "cell_type": "code",
      "source": [
        "# feature and label\n",
        "feature_test_N = feature_test.shape[0]\n",
        "\n",
        "feature_test_normal = (feature_test - np.matlib.repmat(feature_train_mean, feature_test_N, 1))\\\n",
        "    / np.matlib.repmat(feature_train_std, feature_test_N, 1)\n",
        "\n",
        "label_test_normal = (label_test - label_train_mean) / label_train_std\n",
        "\n",
        "# beatch\n",
        "batch_N = df_batch.shape[0]\n",
        "batch_normal = (df_batch - np.matlib.repmat(feature_train_mean, batch_N, 1))\\\n",
        "    / np.matlib.repmat(feature_train_std, batch_N, 1)"
      ],
      "metadata": {
        "id": "OM8YTH93VIVT"
      },
      "execution_count": null,
      "outputs": []
    },
    {
      "cell_type": "markdown",
      "source": [
        "# Linear Regression\n",
        "\n",
        "Use linear regression (least squares) to fit a linear model to the\n",
        "training set.\n"
      ],
      "metadata": {
        "id": "EP2ad1QGev_B"
      }
    },
    {
      "cell_type": "code",
      "source": [
        "# train the model\n",
        "A = np.concatenate(\n",
        "    (np.ones((len(label_train_normal), 1)), feature_train_normal), \n",
        "    axis=1)\n",
        "beta = np.linalg.lstsq(A, label_train_normal, rcond=None)[0]\n",
        "mse_train_lr = 1/(len(label_train_normal))\\\n",
        "    * np.linalg.norm(np.dot(A,beta) - label_train_normal)**2\n",
        "\n",
        "# test the model\n",
        "At = np.concatenate(\n",
        "    (np.ones((len(label_test_normal),1)), feature_test_normal),\n",
        "    axis = 1)\n",
        "mse_test_lr = 1/(len(label_test_normal))\\\n",
        "    * np.linalg.norm(np.dot(At,beta) - label_test_normal)**2\n",
        "\n",
        "# compute batch values\n",
        "A_batch = np.concatenate(\n",
        "    (np.ones((batch_N,1)), batch_normal),\n",
        "    axis=1)\n",
        "batch_quality_lr = np.dot(A_batch,beta) * label_train_std + label_train_mean \n",
        "\n",
        "# report\n",
        "print(\"Linear Regression Training MSE: \", mse_train_lr)\n",
        "print(\"Linear Regression Test MSE: \", mse_test_lr)\n",
        "print(\"Linear Regression new batch quality: \", batch_quality_lr)"
      ],
      "metadata": {
        "colab": {
          "base_uri": "https://localhost:8080/"
        },
        "id": "ABS_AdMfe1Qo",
        "outputId": "02708f2b-7603-4a66-a49c-6bc642ecc673"
      },
      "execution_count": null,
      "outputs": [
        {
          "output_type": "stream",
          "name": "stdout",
          "text": [
            "Linear Regression Training MSE:  0.6278484956554884\n",
            "Linear Regression Test MSE:  0.7471696905187203\n",
            "Linear Regression new batch quality:  [6.00469789 5.28767761 5.56363072 6.067022   5.94248207]\n"
          ]
        }
      ]
    },
    {
      "cell_type": "markdown",
      "source": [
        "# Gaussian (RBF) Kernal Regression\n",
        "\n",
        "Use kernel ridge regression to fit a nonlinear model to the training set using the Gaussian (RBF) kernel\n",
        "\n",
        "Use 10-fold CV to tune the length scale 𝜎 and the regularization parameter 𝜆 for each of the above kernels."
      ],
      "metadata": {
        "id": "oveVJOuqhpCL"
      }
    },
    {
      "cell_type": "code",
      "source": [
        "import sklearn.model_selection as ms\n",
        "import sklearn.kernel_ridge as kr\n",
        "\n",
        "# set up paremeters for 10-fold cross-validation\n",
        "Sigma = np.linspace(1, 3, 10)\n",
        "Lambda = np.linspace(-4, 0, 10)\n",
        "\n",
        "# intialize score storages\n",
        "scores = np.zeros((10, 10))\n",
        "std = np.zeros((10, 10))"
      ],
      "metadata": {
        "id": "Bh07OYF6ifGA"
      },
      "execution_count": null,
      "outputs": []
    },
    {
      "cell_type": "code",
      "source": [
        "# perform 10-fold cross-validation over regression\n",
        "kernal_gaussian = kr.KernelRidge(kernel='rbf')\n",
        "\n",
        "for i in range(10):\n",
        "    # initialize gamma\n",
        "    kernal_gaussian.gamma = 1 / (2 * (2**Sigma[i])**2)\n",
        "\n",
        "    for j in range(10): \n",
        "        kernal_gaussian.alpha = 2**Lambda[j]\n",
        "        score = ms.cross_val_score(\n",
        "            kernal_gaussian,\n",
        "            feature_train_normal,\n",
        "            label_train_normal,\n",
        "            scoring='neg_mean_squared_error',\n",
        "            cv=10)\n",
        "\n",
        "        scores[i,j] = (np.mean(score))\n",
        "        std[i,j] = (np.std(score))"
      ],
      "metadata": {
        "id": "Tse6fPJHjr-s"
      },
      "execution_count": null,
      "outputs": []
    },
    {
      "cell_type": "code",
      "source": [
        "# visualize score and std\n",
        "xv, yv = np.meshgrid(Lambda, Sigma)\n",
        "\n",
        "fig, ax = plt.subplots(1, 2, figsize=(20,10))\n",
        "\n",
        "# score and lambda\n",
        "ax[0].set_xlabel('$\\log_2\\lambda$', fontsize=20)\n",
        "ax[0].set_ylabel('$\\log_2\\sigma$', fontsize=20)\n",
        "ax[0].set_title('Score', fontsize=20)\n",
        "fig.colorbar(ax[0].contourf(xv, yv, np.log2(np.abs(scores))), ax=ax[0])\n",
        "\n",
        "# std and lambda\n",
        "ax[1].set_xlabel('$\\log_2\\lambda$', fontsize=20)\n",
        "ax[1].set_ylabel('$\\log_2\\sigma$', fontsize=20)\n",
        "ax[1].set_title('Std', fontsize=20)\n",
        "fig.colorbar(ax[1].contourf(xv, yv, np.log2(np.abs(std))), ax=ax[1])\n",
        "\n",
        "fig.tight_layout()"
      ],
      "metadata": {
        "colab": {
          "base_uri": "https://localhost:8080/",
          "height": 593
        },
        "id": "k0N1wbaF8SP5",
        "outputId": "67432ae8-f4a9-4406-bfc6-16fb418c0070"
      },
      "execution_count": null,
      "outputs": [
        {
          "output_type": "display_data",
          "data": {
            "image/png": "[encoded data removed]",
            "text/plain": [
              "<Figure size 1440x720 with 4 Axes>"
            ]
          },
          "metadata": {
            "needs_background": "light"
          }
        }
      ]
    },
    {
      "cell_type": "code",
      "source": [
        "# outputs the highest score and corressponding lambda and sigma\n",
        "index = np.array(np.where(scores==scores.max()), dtype=int).flatten()\n",
        "\n",
        "print(\"Guassian Kernel Highest Score: \", scores.max())\n",
        "print(\"Guassian Kernel Sigma: \", Sigma[index[0]])\n",
        "print(\"Guassian Kernel Lambda: \", Lambda[index[1]])"
      ],
      "metadata": {
        "colab": {
          "base_uri": "https://localhost:8080/"
        },
        "id": "8PwyYiQf7rtS",
        "outputId": "b8b6d1c5-267b-455e-f8ec-e6d4d754584a"
      },
      "execution_count": null,
      "outputs": [
        {
          "output_type": "stream",
          "name": "stdout",
          "text": [
            "Guassian Kernel Highest Score:  -0.5957569623170008\n",
            "Guassian Kernel Sigma:  1.8888888888888888\n",
            "Guassian Kernel Lambda:  -2.2222222222222223\n"
          ]
        }
      ]
    },
    {
      "cell_type": "code",
      "source": [
        "# test the best trained model\n",
        "# initialize best model\n",
        "trained_guassian_kernel = kr.KernelRidge(\n",
        "    kernel='rbf',\n",
        "    alpha=2**(Lambda[index[1]]),\n",
        "    gamma=1 / (2 * (2**(Sigma[index[0]]))**2))\n",
        "\n",
        "# fit the model with training data\n",
        "trained_guassian_kernel.fit(feature_train_normal, label_train_normal)\n",
        "\n",
        "# predict the training, test, and new batch quality\n",
        "label_train_predict = trained_guassian_kernel.predict(feature_train_normal)\n",
        "label_test_predict = trained_guassian_kernel.predict(feature_test_normal)\n",
        "batch_quality_gk_normal = trained_guassian_kernel.predict(batch_normal)\n",
        "\n",
        "# compute mse and denormalized batch quality\n",
        "mse_train_gk = 1/(len(label_train_normal)) \\\n",
        "    * np.linalg.norm(label_train_predict - label_train_normal)**2\n",
        "mse_test_gk = 1/(len(label_test_normal)) \\\n",
        "    * np.linalg.norm(label_test_predict - label_test_normal)**2\n",
        "batch_quality_gk = batch_quality_gk_normal * label_train_std + label_train_mean\n",
        "\n",
        "# report mse and new batch quality\n",
        "print(\"Guassian Kernel Training MSE: \", mse_train_gk)\n",
        "print(\"Guassian Kernel Test MSE: \", mse_test_gk)\n",
        "print(\"Guassian Kernel new batch quality: \", batch_quality_gk)"
      ],
      "metadata": {
        "colab": {
          "base_uri": "https://localhost:8080/"
        },
        "id": "Y1m0PrclzOsa",
        "outputId": "95259506-0f75-4058-d5fe-f9836c9fbcf8"
      },
      "execution_count": null,
      "outputs": [
        {
          "output_type": "stream",
          "name": "stdout",
          "text": [
            "Guassian Kernel Training MSE:  0.45846142299952847\n",
            "Guassian Kernel Test MSE:  0.6791289111901163\n",
            "Guassian Kernel new batch quality:  [5.99359168 5.43331001 5.36499355 6.1344601  6.05712892]\n"
          ]
        }
      ]
    },
    {
      "cell_type": "markdown",
      "source": [
        "# Laplacian Kernel Regression\n",
        "\n",
        "Use kernel ridge regression to fit a nonlinear model to the training set using the Laplacian kernel.\n",
        "\n",
        "Use 10-fold CV to tune the length scale 𝜎 and the regularization parameter 𝜆 for each of the above kernels."
      ],
      "metadata": {
        "id": "3be4NJ60y5vK"
      }
    },
    {
      "cell_type": "code",
      "source": [
        "# set up paremeters for 10-fold cross-validation\n",
        "Sigma = np.linspace(1, 3, 10)\n",
        "Lambda = np.linspace(-5, 0, 10)\n",
        "\n",
        "# intialize score storages\n",
        "scores = np.zeros((10, 10))\n",
        "std = np.zeros((10, 10))"
      ],
      "metadata": {
        "id": "kb_yDA_Z3IP9"
      },
      "execution_count": null,
      "outputs": []
    },
    {
      "cell_type": "code",
      "source": [
        "# perform 10-fold cross-validation over regression\n",
        "kernal_laplacian = kr.KernelRidge(kernel='laplacian')\n",
        "\n",
        "for i in range(10):\n",
        "    # initialize gamma\n",
        "    kernal_laplacian.gamma = 1 / (2**Sigma[i])\n",
        "\n",
        "    for j in range(10): \n",
        "        kernal_laplacian.alpha = 2**Lambda[j]\n",
        "        score = ms.cross_val_score(\n",
        "            kernal_laplacian,\n",
        "            feature_train_normal,\n",
        "            label_train_normal,\n",
        "            scoring='neg_mean_squared_error',\n",
        "            cv=10)\n",
        "\n",
        "        scores[i,j] = np.mean(score)\n",
        "        std[i,j] = np.std(score)"
      ],
      "metadata": {
        "id": "z139keZg3aai"
      },
      "execution_count": null,
      "outputs": []
    },
    {
      "cell_type": "code",
      "source": [
        "# visualize score and std\n",
        "xv, yv = np.meshgrid(Lambda, Sigma)\n",
        "\n",
        "fig, ax = plt.subplots(1, 2, figsize=(20,10))\n",
        "\n",
        "# score and lambda\n",
        "ax[0].set_xlabel('$\\log_2\\lambda$', fontsize=20)\n",
        "ax[0].set_ylabel('$\\log_2\\sigma$', fontsize=20)\n",
        "ax[0].set_title('Score', fontsize=20)\n",
        "fig.colorbar(ax[0].contourf(xv, yv, np.log2(np.abs(scores))), ax=ax[0])\n",
        "\n",
        "# std and lambda\n",
        "ax[1].set_xlabel('$\\log_2\\lambda$', fontsize=20)\n",
        "ax[1].set_ylabel('$\\log_2\\sigma$', fontsize=20)\n",
        "ax[1].set_title('Std', fontsize=20)\n",
        "fig.colorbar(ax[1].contourf(xv, yv, np.log2(np.abs(std))), ax=ax[1])\n",
        "\n",
        "fig.tight_layout()"
      ],
      "metadata": {
        "colab": {
          "base_uri": "https://localhost:8080/",
          "height": 593
        },
        "outputId": "4dcde683-ff20-4f54-a1c6-be0a54c8999e",
        "id": "GiMsRIJF3wCn"
      },
      "execution_count": null,
      "outputs": [
        {
          "output_type": "display_data",
          "data": {
            "image/png": "[encoded data removed]",
            "text/plain": [
              "<Figure size 1440x720 with 4 Axes>"
            ]
          },
          "metadata": {
            "needs_background": "light"
          }
        }
      ]
    },
    {
      "cell_type": "code",
      "source": [
        "# outputs the highest score and corressponding lambda and sigma\n",
        "index = np.array(np.where(scores==scores.max()), dtype=int).flatten()\n",
        "\n",
        "print(\"Laplacian Kernel Highest Score: \", scores.max())\n",
        "print(\"Laplacian Kernel Sigma: \", Sigma[index[0]])\n",
        "print(\"Laplacian Kernel Lambda: \", Lambda[index[1]])"
      ],
      "metadata": {
        "colab": {
          "base_uri": "https://localhost:8080/"
        },
        "outputId": "eea123be-6893-4c50-cd3b-56dbf0e1c262",
        "id": "GKGrmmmT34Pv"
      },
      "execution_count": null,
      "outputs": [
        {
          "output_type": "stream",
          "name": "stdout",
          "text": [
            "Laplacian Kernel Highest Score:  -0.5451342495185503\n",
            "Laplacian Kernel Sigma:  2.111111111111111\n",
            "Laplacian Kernel Lambda:  -2.2222222222222223\n"
          ]
        }
      ]
    },
    {
      "cell_type": "code",
      "source": [
        "# test the best trained model\n",
        "# initialize best model\n",
        "trained_laplacian_kernel = kr.KernelRidge(\n",
        "    kernel='laplacian',\n",
        "    alpha=2**(Lambda[index[1]]),\n",
        "    gamma=1 / (2**(Sigma[index[0]])))\n",
        "\n",
        "# fit the model with training data\n",
        "trained_laplacian_kernel.fit(feature_train_normal, label_train_normal)\n",
        "\n",
        "# predict the training, test, and new batch quality\n",
        "label_train_predict = trained_laplacian_kernel.predict(feature_train_normal)\n",
        "label_test_predict = trained_laplacian_kernel.predict(feature_test_normal)\n",
        "batch_quality_lk_normal = trained_laplacian_kernel.predict(batch_normal)\n",
        "\n",
        "# compute mse and denormalized batch quality\n",
        "mse_train_lk = 1/(len(label_train_normal)) \\\n",
        "    * np.linalg.norm(label_train_predict - label_train_normal)**2\n",
        "mse_test_lk = 1/(len(label_test_normal)) \\\n",
        "    * np.linalg.norm(label_test_predict - label_test_normal)**2\n",
        "batch_quality_lk = batch_quality_lk_normal * label_train_std + label_train_mean\n",
        "\n",
        "# report mse and new batch quality\n",
        "print(\"Laplacian Kernel Training MSE: \", mse_train_lk)\n",
        "print(\"Laplacian Kernel Test MSE: \", mse_test_lk)\n",
        "print(\"Laplacian Kernel new batch quality: \", batch_quality_lk)"
      ],
      "metadata": {
        "colab": {
          "base_uri": "https://localhost:8080/"
        },
        "outputId": "e23c4e83-49b4-43a5-c979-6f90c203ce34",
        "id": "G1WHiyyF4OUt"
      },
      "execution_count": null,
      "outputs": [
        {
          "output_type": "stream",
          "name": "stdout",
          "text": [
            "Laplacian Kernel Training MSE:  0.052650423557821985\n",
            "Laplacian Kernel Test MSE:  0.6079848496431081\n",
            "Laplacian Kernel new batch quality:  [6.05116626 5.47305444 5.6265591  5.9765956  6.01032488]\n"
          ]
        }
      ]
    },
    {
      "cell_type": "code",
      "source": [
        ""
      ],
      "metadata": {
        "id": "wqFNhv9KGaxw"
      },
      "execution_count": null,
      "outputs": []
    }
  ]
}